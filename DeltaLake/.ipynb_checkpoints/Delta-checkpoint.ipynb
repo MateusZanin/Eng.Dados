{
 "cells": [
  {
   "cell_type": "code",
   "execution_count": 1,
   "id": "4b5dbbbb-d866-4d9f-ab11-f8476ed14886",
   "metadata": {},
   "outputs": [],
   "source": [
    "from pyspark.sql import SparkSession\n",
    "from pyspark.sql.types import StructType, StructField, StringType, FloatType\n",
    "\n",
    "from delta import *"
   ]
  },
  {
   "cell_type": "code",
   "execution_count": 2,
   "id": "a8b40464-522c-444b-bbda-89d0198d8604",
   "metadata": {},
   "outputs": [
    {
     "name": "stderr",
     "output_type": "stream",
     "text": [
      "24/09/22 17:06:35 WARN Utils: Your hostname, ubuntulab resolves to a loopback address: 127.0.1.1; using 10.0.2.15 instead (on interface enp0s3)\n",
      "24/09/22 17:06:35 WARN Utils: Set SPARK_LOCAL_IP if you need to bind to another address\n"
     ]
    },
    {
     "name": "stdout",
     "output_type": "stream",
     "text": [
      ":: loading settings :: url = jar:file:/home/ubuntu/codigos/AulaSexta/pyspark-delta-marcos/.venv/lib/python3.10/site-packages/pyspark/jars/ivy-2.5.1.jar!/org/apache/ivy/core/settings/ivysettings.xml\n"
     ]
    },
    {
     "name": "stderr",
     "output_type": "stream",
     "text": [
      "Ivy Default Cache set to: /home/ubuntu/.ivy2/cache\n",
      "The jars for the packages stored in: /home/ubuntu/.ivy2/jars\n",
      "io.delta#delta-core_2.12 added as a dependency\n",
      ":: resolving dependencies :: org.apache.spark#spark-submit-parent-bc7606e3-ba82-4464-a1df-6555d8e9434f;1.0\n",
      "\tconfs: [default]\n",
      "\tfound io.delta#delta-core_2.12;2.4.0 in central\n",
      "\tfound io.delta#delta-storage;2.4.0 in central\n",
      "\tfound org.antlr#antlr4-runtime;4.9.3 in central\n",
      ":: resolution report :: resolve 2095ms :: artifacts dl 107ms\n",
      "\t:: modules in use:\n",
      "\tio.delta#delta-core_2.12;2.4.0 from central in [default]\n",
      "\tio.delta#delta-storage;2.4.0 from central in [default]\n",
      "\torg.antlr#antlr4-runtime;4.9.3 from central in [default]\n",
      "\t---------------------------------------------------------------------\n",
      "\t|                  |            modules            ||   artifacts   |\n",
      "\t|       conf       | number| search|dwnlded|evicted|| number|dwnlded|\n",
      "\t---------------------------------------------------------------------\n",
      "\t|      default     |   3   |   0   |   0   |   0   ||   3   |   0   |\n",
      "\t---------------------------------------------------------------------\n",
      ":: retrieving :: org.apache.spark#spark-submit-parent-bc7606e3-ba82-4464-a1df-6555d8e9434f\n",
      "\tconfs: [default]\n",
      "\t0 artifacts copied, 3 already retrieved (0kB/302ms)\n",
      "24/09/22 17:06:41 WARN NativeCodeLoader: Unable to load native-hadoop library for your platform... using builtin-java classes where applicable\n",
      "Setting default log level to \"WARN\".\n",
      "To adjust logging level use sc.setLogLevel(newLevel). For SparkR, use setLogLevel(newLevel).\n"
     ]
    }
   ],
   "source": [
    "spark = ( \n",
    "    SparkSession\n",
    "    .builder\n",
    "    .master(\"local[*]\")\n",
    "    .config(\"spark.jars.packages\", \"io.delta:delta-core_2.12:2.4.0\")\n",
    "    .config(\"spark.sql.extensions\", \"io.delta.sql.DeltaSparkSessionExtension\")\n",
    "    .config(\"spark.sql.catalog.spark_catalog\", \"org.apache.spark.sql.delta.catalog.DeltaCatalog\")\n",
    "    .getOrCreate() \n",
    ")"
   ]
  },
  {
   "cell_type": "code",
   "execution_count": 3,
   "id": "4ad90eb3-fcdb-4c78-8a1d-ffcfb2363993",
   "metadata": {},
   "outputs": [
    {
     "name": "stderr",
     "output_type": "stream",
     "text": [
      "                                                                                \r"
     ]
    },
    {
     "name": "stdout",
     "output_type": "stream",
     "text": [
      "+----------+------------+---+-------+--------------+\n",
      "|ID_CLIENTE|NOME_CLIENTE|UF |STATUS |LIMITE_CREDITO|\n",
      "+----------+------------+---+-------+--------------+\n",
      "|ID001     |CLIENTE_X   |SP |ATIVO  |250000.0      |\n",
      "|ID002     |CLIENTE_Y   |SC |INATIVO|400000.0      |\n",
      "|ID003     |CLIENTE_Z   |DF |ATIVO  |1000000.0     |\n",
      "+----------+------------+---+-------+--------------+\n",
      "\n"
     ]
    }
   ],
   "source": [
    "data = [\n",
    "    (\"ID001\", \"CLIENTE_X\",\"SP\",\"ATIVO\",   250000.00),\n",
    "    (\"ID002\", \"CLIENTE_Y\",\"SC\",\"INATIVO\", 400000.00),\n",
    "    (\"ID003\", \"CLIENTE_Z\",\"DF\",\"ATIVO\",   1000000.00)\n",
    "]\n",
    "\n",
    "schema = (\n",
    "    StructType([\n",
    "        StructField(\"ID_CLIENTE\",     StringType(),True),\n",
    "        StructField(\"NOME_CLIENTE\",   StringType(),True),\n",
    "        StructField(\"UF\",             StringType(),True),\n",
    "        StructField(\"STATUS\",         StringType(),True),\n",
    "        StructField(\"LIMITE_CREDITO\", FloatType(), True)\n",
    "    ])\n",
    ")\n",
    "\n",
    "df = spark.createDataFrame(data=data,schema=schema)\n",
    "\n",
    "df.show(truncate=False)"
   ]
  },
  {
   "cell_type": "code",
   "execution_count": 4,
   "id": "03fe3feb-13ed-43f2-8823-0cd90313dd8e",
   "metadata": {},
   "outputs": [],
   "source": [
    "# Gravar Delta Table"
   ]
  },
  {
   "cell_type": "code",
   "execution_count": 5,
   "id": "660a578d-a77c-4713-959d-b503726333d9",
   "metadata": {},
   "outputs": [
    {
     "name": "stderr",
     "output_type": "stream",
     "text": [
      "24/09/22 17:07:41 WARN package: Truncated the string representation of a plan since it was too large. This behavior can be adjusted by setting 'spark.sql.debug.maxToStringFields'.\n",
      "                                                                                \r"
     ]
    }
   ],
   "source": [
    "(\n",
    "    df\n",
    "    .write\n",
    "    .format(\"delta\")\n",
    "    .mode(\"overwrite\")\n",
    "    .save(\"./RAW/CLIENTES\")\n",
    ")"
   ]
  },
  {
   "cell_type": "code",
   "execution_count": 6,
   "id": "9ae68d97-ca66-462a-9bce-672f7c3f1f83",
   "metadata": {},
   "outputs": [],
   "source": [
    "# NOVOS DADOS"
   ]
  },
  {
   "cell_type": "code",
   "execution_count": 7,
   "id": "0aed4d85-21bd-4325-a17a-6657ab9b239b",
   "metadata": {},
   "outputs": [
    {
     "name": "stdout",
     "output_type": "stream",
     "text": [
      "+----------+------------+---+-------+--------------+\n",
      "|ID_CLIENTE|NOME_CLIENTE| UF| STATUS|LIMITE_CREDITO|\n",
      "+----------+------------+---+-------+--------------+\n",
      "|     ID001|   CLIENTE_X| SP|INATIVO|           0.0|\n",
      "|     ID002|   CLIENTE_Y| SC|  ATIVO|      400000.0|\n",
      "|     ID004|   CLIENTE_Z| DF|  ATIVO|     5000000.0|\n",
      "+----------+------------+---+-------+--------------+\n",
      "\n"
     ]
    }
   ],
   "source": [
    "new_data = [\n",
    "    (\"ID001\",\"CLIENTE_X\",\"SP\",\"INATIVO\", 0.00),\n",
    "    (\"ID002\",\"CLIENTE_Y\",\"SC\",\"ATIVO\",   400000.00),\n",
    "    (\"ID004\",\"CLIENTE_Z\",\"DF\",\"ATIVO\",   5000000.00)\n",
    "]\n",
    "\n",
    "df_new = spark.createDataFrame(data=new_data, schema=schema)\n",
    "\n",
    "df_new.show()"
   ]
  },
  {
   "cell_type": "code",
   "execution_count": 8,
   "id": "28eaac1f-dc33-44a5-b46f-045e2a738e7e",
   "metadata": {},
   "outputs": [],
   "source": [
    "# UPSERT / MERGE"
   ]
  },
  {
   "cell_type": "code",
   "execution_count": 9,
   "id": "7ed633ac-3b81-49e9-89ce-ac1b38976542",
   "metadata": {},
   "outputs": [],
   "source": [
    "deltaTable = DeltaTable.forPath(spark, \"./RAW/CLIENTES\")"
   ]
  },
  {
   "cell_type": "code",
   "execution_count": 10,
   "id": "22e7f79e-fbba-4978-9fe0-d86a49bd7647",
   "metadata": {},
   "outputs": [
    {
     "name": "stderr",
     "output_type": "stream",
     "text": [
      "                                                                                \r"
     ]
    }
   ],
   "source": [
    "(\n",
    "    deltaTable.alias(\"dados_atuais\")\n",
    "    .merge(\n",
    "        df_new.alias(\"novos_dados\"),\n",
    "        \"dados_atuais.ID_CLIENTE = novos_dados.ID_CLIENTE\"\n",
    "    )\n",
    "    .whenMatchedUpdateAll()\n",
    "    .whenNotMatchedInsertAll()\n",
    "    .execute()\n",
    ")"
   ]
  },
  {
   "cell_type": "code",
   "execution_count": 11,
   "id": "a29a1867-6b7c-490a-8c94-4d0e69e79bde",
   "metadata": {},
   "outputs": [
    {
     "name": "stderr",
     "output_type": "stream",
     "text": [
      "                                                                                \r"
     ]
    },
    {
     "name": "stdout",
     "output_type": "stream",
     "text": [
      "+----------+------------+---+-------+--------------+\n",
      "|ID_CLIENTE|NOME_CLIENTE| UF| STATUS|LIMITE_CREDITO|\n",
      "+----------+------------+---+-------+--------------+\n",
      "|     ID001|   CLIENTE_X| SP|INATIVO|           0.0|\n",
      "|     ID002|   CLIENTE_Y| SC|  ATIVO|      400000.0|\n",
      "|     ID003|   CLIENTE_Z| DF|  ATIVO|     1000000.0|\n",
      "|     ID004|   CLIENTE_Z| DF|  ATIVO|     5000000.0|\n",
      "+----------+------------+---+-------+--------------+\n",
      "\n"
     ]
    }
   ],
   "source": [
    "deltaTable.toDF().show()"
   ]
  },
  {
   "cell_type": "code",
   "execution_count": 12,
   "id": "99118807-6d2e-4624-a5f0-c9a2a9ea762f",
   "metadata": {},
   "outputs": [
    {
     "name": "stderr",
     "output_type": "stream",
     "text": [
      "                                                                                \r"
     ]
    }
   ],
   "source": [
    "deltaTable.delete(\"LIMITE_CREDITO < 400000.0\")"
   ]
  },
  {
   "cell_type": "code",
   "execution_count": 13,
   "id": "0c6f02d5-5ddc-4d9f-8805-a9f17deb9999",
   "metadata": {},
   "outputs": [
    {
     "name": "stderr",
     "output_type": "stream",
     "text": [
      "                                                                                \r"
     ]
    },
    {
     "name": "stdout",
     "output_type": "stream",
     "text": [
      "+----------+------------+---+------+--------------+\n",
      "|ID_CLIENTE|NOME_CLIENTE| UF|STATUS|LIMITE_CREDITO|\n",
      "+----------+------------+---+------+--------------+\n",
      "|     ID002|   CLIENTE_Y| SC| ATIVO|      400000.0|\n",
      "|     ID003|   CLIENTE_Z| DF| ATIVO|     1000000.0|\n",
      "|     ID004|   CLIENTE_Z| DF| ATIVO|     5000000.0|\n",
      "+----------+------------+---+------+--------------+\n",
      "\n"
     ]
    }
   ],
   "source": [
    "deltaTable.toDF().show()"
   ]
  },
  {
   "cell_type": "code",
   "execution_count": 14,
   "id": "964d2d8f-55f2-49a1-b3b4-e7a86230f7e2",
   "metadata": {},
   "outputs": [],
   "source": [
    "# HISTORY"
   ]
  },
  {
   "cell_type": "code",
   "execution_count": 15,
   "id": "36b17390-b215-4592-899b-893968331caf",
   "metadata": {},
   "outputs": [
    {
     "name": "stderr",
     "output_type": "stream",
     "text": [
      "                                                                                \r"
     ]
    },
    {
     "name": "stdout",
     "output_type": "stream",
     "text": [
      "+-------+--------------------+------+--------+---------+--------------------+----+--------+---------+-----------+--------------+-------------+--------------------+------------+--------------------+\n",
      "|version|           timestamp|userId|userName|operation| operationParameters| job|notebook|clusterId|readVersion|isolationLevel|isBlindAppend|    operationMetrics|userMetadata|          engineInfo|\n",
      "+-------+--------------------+------+--------+---------+--------------------+----+--------+---------+-----------+--------------+-------------+--------------------+------------+--------------------+\n",
      "|      5|2024-09-22 17:09:...|  null|    null|   DELETE|{predicate -> [\"(...|null|    null|     null|          4|  Serializable|        false|{numRemovedFiles ...|        null|Apache-Spark/3.4....|\n",
      "|      4|2024-09-22 17:09:...|  null|    null|    MERGE|{predicate -> [\"(...|null|    null|     null|          3|  Serializable|        false|{numTargetRowsCop...|        null|Apache-Spark/3.4....|\n",
      "|      3|2024-09-22 17:08:...|  null|    null|    WRITE|{mode -> Overwrit...|null|    null|     null|          2|  Serializable|        false|{numFiles -> 2, n...|        null|Apache-Spark/3.4....|\n",
      "|      2|2024-09-22 16:59:...|  null|    null|    MERGE|{predicate -> [\"(...|null|    null|     null|          1|  Serializable|        false|{numTargetRowsCop...|        null|Apache-Spark/3.4....|\n",
      "|      1|2024-09-22 16:49:...|  null|    null|    MERGE|{predicate -> [\"(...|null|    null|     null|          0|  Serializable|        false|{numTargetRowsCop...|        null|Apache-Spark/3.4....|\n",
      "|      0|2024-09-22 16:37:...|  null|    null|    WRITE|{mode -> Overwrit...|null|    null|     null|       null|  Serializable|        false|{numFiles -> 2, n...|        null|Apache-Spark/3.4....|\n",
      "+-------+--------------------+------+--------+---------+--------------------+----+--------+---------+-----------+--------------+-------------+--------------------+------------+--------------------+\n",
      "\n"
     ]
    }
   ],
   "source": [
    "(\n",
    "    deltaTable\n",
    "    .history()\n",
    "    .show()\n",
    ")"
   ]
  },
  {
   "cell_type": "code",
   "execution_count": 26,
   "id": "896f30b3-4a70-4313-936f-5082ca5d2d09",
   "metadata": {},
   "outputs": [
    {
     "name": "stdout",
     "output_type": "stream",
     "text": [
      "+-------+--------------------+---------+--------------------+\n",
      "|version|           timestamp|operation|    operationMetrics|\n",
      "+-------+--------------------+---------+--------------------+\n",
      "|      5|2024-09-22 17:09:...|   DELETE|{numRemovedFiles ...|\n",
      "|      4|2024-09-22 17:09:...|    MERGE|{numTargetRowsCop...|\n",
      "|      3|2024-09-22 17:08:...|    WRITE|{numFiles -> 2, n...|\n",
      "|      2|2024-09-22 16:59:...|    MERGE|{numTargetRowsCop...|\n",
      "|      1|2024-09-22 16:49:...|    MERGE|{numTargetRowsCop...|\n",
      "|      0|2024-09-22 16:37:...|    WRITE|{numFiles -> 2, n...|\n",
      "+-------+--------------------+---------+--------------------+\n",
      "\n"
     ]
    }
   ],
   "source": [
    "(\n",
    "    deltaTable\n",
    "    .history()\n",
    "    .select(\"version\", \"timestamp\", \"operation\", \"operationMetrics\")\n",
    "    .show(truncate=True, vertical=False)\n",
    ")"
   ]
  },
  {
   "cell_type": "code",
   "execution_count": 17,
   "id": "7802b3fe-6272-4432-ae41-904c46add69e",
   "metadata": {},
   "outputs": [],
   "source": [
    "# VIAGEM NO TEMPO"
   ]
  },
  {
   "cell_type": "code",
   "execution_count": 34,
   "id": "abed2523-c234-42c1-acc9-1eb99840303d",
   "metadata": {},
   "outputs": [
    {
     "name": "stderr",
     "output_type": "stream",
     "text": [
      "[Stage 187:============================================>          (40 + 2) / 50]\r"
     ]
    },
    {
     "name": "stdout",
     "output_type": "stream",
     "text": [
      "+----------+------------+---+-------+--------------+\n",
      "|ID_CLIENTE|NOME_CLIENTE| UF| STATUS|LIMITE_CREDITO|\n",
      "+----------+------------+---+-------+--------------+\n",
      "|     ID001|   CLIENTE_X| SP|INATIVO|           0.0|\n",
      "|     ID002|   CLIENTE_Y| SC|  ATIVO|      400000.0|\n",
      "|     ID003|   CLIENTE_Z| DF|  ATIVO|     1000000.0|\n",
      "|     ID004|   CLIENTE_Z| DF|  ATIVO|     5000000.0|\n",
      "+----------+------------+---+-------+--------------+\n",
      "\n"
     ]
    },
    {
     "name": "stderr",
     "output_type": "stream",
     "text": [
      "                                                                                \r"
     ]
    }
   ],
   "source": [
    "(\n",
    "    spark\n",
    "    .read\n",
    "    .format(\"delta\")\n",
    "    .option(\"versionAs0f\", 0)\n",
    "    .load(\"./RAW/CLIENTES\")\n",
    "    .show()\n",
    ")"
   ]
  },
  {
   "cell_type": "code",
   "execution_count": 29,
   "id": "496d0562-e385-4866-a2a7-81a8517d7b78",
   "metadata": {},
   "outputs": [
    {
     "name": "stderr",
     "output_type": "stream",
     "text": [
      "                                                                                \r"
     ]
    },
    {
     "data": {
      "text/plain": [
       "DataFrame[table_size_after_restore: bigint, num_of_files_after_restore: bigint, num_removed_files: bigint, num_restored_files: bigint, removed_files_size: bigint, restored_files_size: bigint]"
      ]
     },
     "execution_count": 29,
     "metadata": {},
     "output_type": "execute_result"
    }
   ],
   "source": [
    "deltaTable.restoreToVersion(1)"
   ]
  },
  {
   "cell_type": "code",
   "execution_count": 30,
   "id": "922c7899-db31-4668-b7f0-74bf125de0f0",
   "metadata": {},
   "outputs": [
    {
     "name": "stderr",
     "output_type": "stream",
     "text": [
      "                                                                                \r"
     ]
    },
    {
     "name": "stdout",
     "output_type": "stream",
     "text": [
      "+----------+------------+---+-------+--------------+\n",
      "|ID_CLIENTE|NOME_CLIENTE| UF| STATUS|LIMITE_CREDITO|\n",
      "+----------+------------+---+-------+--------------+\n",
      "|     ID001|   CLIENTE_X| SP|INATIVO|           0.0|\n",
      "|     ID002|   CLIENTE_Y| SC|  ATIVO|      400000.0|\n",
      "|     ID003|   CLIENTE_Z| DF|  ATIVO|     1000000.0|\n",
      "|     ID004|   CLIENTE_Z| DF|  ATIVO|     5000000.0|\n",
      "+----------+------------+---+-------+--------------+\n",
      "\n"
     ]
    }
   ],
   "source": [
    "deltaTable.toDF().show()"
   ]
  },
  {
   "cell_type": "code",
   "execution_count": null,
   "id": "4e605444-301c-4850-bbd4-7127607eba6c",
   "metadata": {},
   "outputs": [],
   "source": []
  }
 ],
 "metadata": {
  "kernelspec": {
   "display_name": "Python 3 (ipykernel)",
   "language": "python",
   "name": "python3"
  },
  "language_info": {
   "codemirror_mode": {
    "name": "ipython",
    "version": 3
   },
   "file_extension": ".py",
   "mimetype": "text/x-python",
   "name": "python",
   "nbconvert_exporter": "python",
   "pygments_lexer": "ipython3",
   "version": "3.10.12"
  }
 },
 "nbformat": 4,
 "nbformat_minor": 5
}
